{
 "cells": [
  {
   "cell_type": "markdown",
   "metadata": {},
   "source": [
    "## Installing Anaconda\n",
    "\n",
    "Download and install Anaconda Python 3.7\n",
    " - https://www.anaconda.com/distribution/"
   ]
  },
  {
   "cell_type": "markdown",
   "metadata": {},
   "source": [
    "## Install Jyputer contrib extensions"
   ]
  },
  {
   "cell_type": "code",
   "execution_count": null,
   "metadata": {},
   "outputs": [],
   "source": [
    "import sys\n",
    "!{sys.executable} -m pip install jupyter_contrib_nbextensions"
   ]
  },
  {
   "cell_type": "code",
   "execution_count": null,
   "metadata": {},
   "outputs": [],
   "source": [
    "import sys, os\n",
    "!{os.path.join(sys.exec_prefix, \"bin\", \"jupyter\")} contrib nbextension install"
   ]
  },
  {
   "cell_type": "markdown",
   "metadata": {},
   "source": [
    "Now restart Anaconda and re-open this notebook.\n",
    "\n",
    "Go to the menu item `Edit` -> `nbextensions config` or to http://localhost:8888/nbextensions/ and enable the following extensions:\n",
    " - spellchecker\n",
    " - Live Markdown Preview\n",
    " - **(some) LaTeX environments for Jupyter or equation autonumbering?**\n",
    " - Nbextensions edit menu item\n",
    " - contrib_nbextensions_help_item\n",
    " - Nbextensions dashboard tab"
   ]
  },
  {
   "cell_type": "markdown",
   "metadata": {},
   "source": [
    "## Latex Envirnoments plugin\n",
    "\n",
    "\n",
    "Click on the wrench icon and then on the toggles menu to enable \"Show latex menu\" and \"Latex user definitions\"\n",
    "\n",
    "\\begin{definition} \\label{def:FT}\n",
    "Let $x[n]$ be a sequence of length $N$. Then, its **Fourier transform** is given by\n",
    "\\begin{equation}\n",
    "\\label{eq:FT}\n",
    "X[k]= \\frac{1}{N} \\sum_{n=0}^{N-1} x[n] e^{-j2\\pi \\frac{kn}{N}}\n",
    "\\end{equation}\n",
    "\\end{definition}\n",
    "\n",
    "As an example of Definition \\ref{def:FT}, consider the Fourier transform (\\ref{eq:FT}) of a pure cosine wave given by\n",
    "$$\n",
    "x[n]= \\cos(2\\pi k_0 n/N),\n",
    "$$\n",
    "where $k_0$ is an integer. "
   ]
  },
  {
   "cell_type": "markdown",
   "metadata": {},
   "source": [
    "You can put all of your latex macros into a single file, e.g., put the following in the file `latexdefs.tex`\n",
    " \n",
    "```\n",
    "\\newcommand{\\mytest}[1]{\\textrm{This is a test macro: #1}}\n",
    "```\n",
    "\n",
    "And then invoke the macro $\\mytest{cla}$.\n",
    " \n"
   ]
  },
  {
   "cell_type": "markdown",
   "metadata": {},
   "source": [
    "We can also cite a paper \\cite{friedman2001greedy}.\n",
    "\n",
    "Put the following in the file `biblio.bib`\n",
    "\n",
    "```\n",
    "@article{friedman2001greedy,\n",
    "  title={Greedy function approximation: a gradient boosting machine},\n",
    "  author={Friedman, Jerome H},\n",
    "  journal={Annals of statistics},\n",
    "  pages={1189--1232},\n",
    "  year={2001},\n",
    "  publisher={JSTOR}\n",
    "}\n",
    "```"
   ]
  },
  {
   "cell_type": "markdown",
   "metadata": {},
   "source": [
    "## Possibly useful\n",
    "\n"
   ]
  },
  {
   "cell_type": "markdown",
   "metadata": {},
   "source": [
    "<div class=\"alert alert-info\">\n",
    "\n",
    "**Note:** This is a note!\n",
    "\n",
    "</div>"
   ]
  },
  {
   "cell_type": "markdown",
   "metadata": {},
   "source": [
    "<div class=\"alert alert-warning\">\n",
    "\n",
    "**Warning:** This is a note!\n",
    "\n",
    "</div>"
   ]
  },
  {
   "cell_type": "markdown",
   "metadata": {},
   "source": [
    "## Customizing\n",
    "\n",
    "You can create and load a custom css (this might not be the best way to do it).\n",
    "\n",
    "Create a file `custom.css` with the following content and then execute the cell below.\n",
    "\n",
    "```\n",
    ".latex_definition {background-color:#ffdbbb}\n",
    "```"
   ]
  },
  {
   "cell_type": "code",
   "execution_count": 1,
   "metadata": {},
   "outputs": [
    {
     "data": {
      "text/html": [
       "<link rel=\"stylesheet\" type=\"text/css\" href=\"custom.css\">\n"
      ],
      "text/plain": [
       "<IPython.core.display.HTML object>"
      ]
     },
     "metadata": {},
     "output_type": "display_data"
    }
   ],
   "source": [
    "%%html\n",
    "<link rel=\"stylesheet\" type=\"text/css\" href=\"custom.css\">"
   ]
  },
  {
   "cell_type": "markdown",
   "metadata": {},
   "source": [
    "# References\n",
    "\n",
    "[<a id=\"cit-friedman2001greedy\" href=\"#call-friedman2001greedy\">1</a>] Friedman Jerome H, ``_Greedy function approximation: a gradient boosting machine_'', Annals of statistics, vol. , number , pp. 1189--1232,  2001.\n",
    "\n"
   ]
  },
  {
   "cell_type": "code",
   "execution_count": null,
   "metadata": {},
   "outputs": [],
   "source": []
  }
 ],
 "metadata": {
  "kernelspec": {
   "display_name": "Python 3",
   "language": "python",
   "name": "python3"
  },
  "language_info": {
   "codemirror_mode": {
    "name": "ipython",
    "version": 3
   },
   "file_extension": ".py",
   "mimetype": "text/x-python",
   "name": "python",
   "nbconvert_exporter": "python",
   "pygments_lexer": "ipython3",
   "version": "3.7.3"
  },
  "latex_envs": {
   "LaTeX_envs_menu_present": true,
   "autoclose": false,
   "autocomplete": true,
   "bibliofile": "biblio.bib",
   "cite_by": "number",
   "current_citInitial": 1,
   "eqLabelWithNumbers": true,
   "eqNumInitial": 1,
   "hotkeys": {
    "equation": "Ctrl-E",
    "itemize": "Ctrl-I"
   },
   "labels_anchors": false,
   "latex_user_defs": true,
   "report_style_numbering": false,
   "user_envs_cfg": false
  }
 },
 "nbformat": 4,
 "nbformat_minor": 2
}
